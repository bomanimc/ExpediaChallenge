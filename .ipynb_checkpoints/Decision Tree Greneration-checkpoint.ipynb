{
 "cells": [
  {
   "cell_type": "markdown",
   "metadata": {},
   "source": [
    "In this section, we load the first 100K rows of data from the training set into a Pandas dataframe."
   ]
  },
  {
   "cell_type": "code",
   "execution_count": 2,
   "metadata": {
    "collapsed": true
   },
   "outputs": [],
   "source": [
    "from __future__ import print_function\n",
    "\n",
    "import os\n",
    "import subprocess\n",
    "from sklearn.tree import DecisionTreeClassifier, export_graphviz\n",
    "\n",
    "import numpy as np # linear algebra\n",
    "import pandas as pd # data processing, CSV file I/O (e.g. pd.read_csv)\n",
    "\n",
    "# Load in the testing and training datasets\n",
    "trainFull = pd.read_csv(\"data/train.csv\", nrows=100000)"
   ]
  },
  {
   "cell_type": "markdown",
   "metadata": {},
   "source": [
    "Next, we can take chunks of the data to use as a training sample for our decision tree, as well as a sample to use for training. From these chunks of 80K and 20K rows, we can take samples of 10K rows to utilize for model generation and testing. It's important to make sure that there is no overlap between between the training and  subsets to gaurantee valid results in the scoring process."
   ]
  },
  {
   "cell_type": "code",
   "execution_count": 4,
   "metadata": {
    "collapsed": false
   },
   "outputs": [],
   "source": [
    "# Take subsets of the datasets for training and testing\n",
    "train = trainFull[:80000].sample(10000)\n",
    "test_set = trainFull[:20000].sample(10000)"
   ]
  },
  {
   "cell_type": "code",
   "execution_count": null,
   "metadata": {
    "collapsed": true
   },
   "outputs": [],
   "source": [
    "# Set a list of features to be considered in the tree\n",
    "features = trainFull.columns.values.tolist()\n",
    "removelist  =  [\"hotel_cluster\", \"user_id\", \"date_time\",\"orig_destination_distance\", \"srch_ci\", \"srch_co\"]\n",
    "features = [column for column in features if column not in removelist]\n",
    "print(\"The features considered are:\")\n",
    "print(features)"
   ]
  }
 ],
 "metadata": {
  "kernelspec": {
   "display_name": "Python 2",
   "language": "python",
   "name": "python2"
  },
  "language_info": {
   "codemirror_mode": {
    "name": "ipython",
    "version": 2
   },
   "file_extension": ".py",
   "mimetype": "text/x-python",
   "name": "python",
   "nbconvert_exporter": "python",
   "pygments_lexer": "ipython2",
   "version": "2.7.10"
  }
 },
 "nbformat": 4,
 "nbformat_minor": 0
}
