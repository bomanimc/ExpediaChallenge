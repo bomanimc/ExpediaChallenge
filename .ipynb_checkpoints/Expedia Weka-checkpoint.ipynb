{
 "cells": [
  {
   "cell_type": "code",
   "execution_count": null,
   "metadata": {
    "collapsed": true
   },
   "outputs": [],
   "source": [
    "# Start JVM\n",
    "import weka.core.jvm as jvm\n",
    "jvm.start()\n",
    "\n",
    "data_dir=\"~/Downloads/\"\n",
    "\n",
    "import weka.core.converters as converters\n",
    "data = converters.load_any_file(data_dir + \"train.csv\")\n",
    "data.class_is_last()\n",
    "\n",
    "print(data)\n",
    "\n"
   ]
  },
  {
   "cell_type": "code",
   "execution_count": null,
   "metadata": {
    "collapsed": true
   },
   "outputs": [],
   "source": []
  }
 ],
 "metadata": {
  "kernelspec": {
   "display_name": "Python 2",
   "language": "python",
   "name": "python2"
  },
  "language_info": {
   "codemirror_mode": {
    "name": "ipython",
    "version": 2
   },
   "file_extension": ".py",
   "mimetype": "text/x-python",
   "name": "python",
   "nbconvert_exporter": "python",
   "pygments_lexer": "ipython2",
   "version": "2.7.11"
  }
 },
 "nbformat": 4,
 "nbformat_minor": 0
}
