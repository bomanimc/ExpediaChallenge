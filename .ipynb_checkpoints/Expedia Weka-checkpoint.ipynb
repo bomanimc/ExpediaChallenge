{
 "cells": [
  {
   "cell_type": "code",
   "execution_count": 2,
   "metadata": {
    "collapsed": false,
    "scrolled": false
   },
   "outputs": [
    {
     "name": "stdout",
     "output_type": "stream",
     "text": [
      "HELLO\n",
      "date_time 0\n",
      "site_name 0\n",
      "posa_continent 0\n",
      "user_location_country 0\n",
      "user_location_region 0\n",
      "user_location_city 0\n",
      "orig_destination_distance 1015179\n",
      "user_id 0\n",
      "is_mobile 0\n",
      "is_package 0\n",
      "channel 0\n",
      "srch_ci 0\n",
      "srch_co 0\n",
      "srch_adults_cnt 0\n",
      "srch_children_cnt 0\n",
      "srch_rm_cnt 0\n",
      "srch_destination_id 0\n",
      "srch_destination_type_id 0\n",
      "is_booking 0\n",
      "cnt 0\n",
      "hotel_continent 0\n",
      "hotel_country 0\n",
      "hotel_market 0\n",
      "hotel_cluster\n",
      "0\n"
     ]
    }
   ],
   "source": [
    "# # Start JVM\n",
    "# import weka.core.jvm as jvm\n",
    "# jvm.start()\n",
    "\n",
    "# data_dir=\"/Users/dianeliu/Downloads/\"\n",
    "\n",
    "# import weka.core.converters as converters\n",
    "# data = converters.load_any_file(data_dir + \"train.csv\")\n",
    "# data.class_is_last()\n",
    "\n",
    "# print(data)\n",
    "\n",
    "with open(\"/Users/dianeliu/Code/ExpediaChallenge/booking_only.csv\", 'r') as rf:\n",
    "  headers = rf.readline()\n",
    "  headers = headers.split(',')\n",
    "  headercount = [0]*len(headers)\n",
    "  for line in rf:\n",
    "    splitline = line.split(',')\n",
    "    for idx, item in enumerate(splitline):\n",
    "      if item == \"\" or item == \"?\":\n",
    "        headercount[idx] = headercount[idx] + 1\n",
    "\n",
    "  for i in range(len(headers)):\n",
    "    print headers[i], headercount[i]"
   ]
  },
  {
   "cell_type": "code",
   "execution_count": 11,
   "metadata": {
    "collapsed": false
   },
   "outputs": [
    {
     "ename": "IOError",
     "evalue": "[Errno 2] No such file or directory: 'booking_only.csv'",
     "output_type": "error",
     "traceback": [
      "\u001b[0;31m---------------------------------------------------------------------------\u001b[0m",
      "\u001b[0;31mIOError\u001b[0m                                   Traceback (most recent call last)",
      "\u001b[0;32m<ipython-input-11-7b28e62d5c53>\u001b[0m in \u001b[0;36m<module>\u001b[0;34m()\u001b[0m\n\u001b[0;32m----> 1\u001b[0;31m \u001b[0;32mwith\u001b[0m \u001b[0mopen\u001b[0m\u001b[0;34m(\u001b[0m\u001b[0;34m\"booking_only.csv\"\u001b[0m\u001b[0;34m,\u001b[0m \u001b[0;34m\"r\"\u001b[0m\u001b[0;34m)\u001b[0m \u001b[0;32mas\u001b[0m \u001b[0mrf\u001b[0m\u001b[0;34m:\u001b[0m\u001b[0;34m\u001b[0m\u001b[0m\n\u001b[0m\u001b[1;32m      2\u001b[0m   \u001b[0;32mwith\u001b[0m \u001b[0mopen\u001b[0m\u001b[0;34m(\u001b[0m\u001b[0;34m\"booking_no_empty.csv\"\u001b[0m\u001b[0;34m,\u001b[0m \u001b[0;34m\"w\"\u001b[0m\u001b[0;34m)\u001b[0m \u001b[0;32mas\u001b[0m \u001b[0mwf\u001b[0m\u001b[0;34m:\u001b[0m\u001b[0;34m\u001b[0m\u001b[0m\n\u001b[1;32m      3\u001b[0m     \u001b[0mheaders\u001b[0m \u001b[0;34m=\u001b[0m \u001b[0mrf\u001b[0m\u001b[0;34m.\u001b[0m\u001b[0mreadline\u001b[0m\u001b[0;34m(\u001b[0m\u001b[0;34m)\u001b[0m\u001b[0;34m\u001b[0m\u001b[0m\n\u001b[1;32m      4\u001b[0m     \u001b[0mheaders\u001b[0m \u001b[0;34m=\u001b[0m \u001b[0mheaders\u001b[0m\u001b[0;34m.\u001b[0m\u001b[0msplit\u001b[0m\u001b[0;34m(\u001b[0m\u001b[0;34m','\u001b[0m\u001b[0;34m)\u001b[0m\u001b[0;34m\u001b[0m\u001b[0m\n\u001b[1;32m      5\u001b[0m     \u001b[0;32mdel\u001b[0m \u001b[0mheaders\u001b[0m\u001b[0;34m[\u001b[0m\u001b[0;36m6\u001b[0m\u001b[0;34m]\u001b[0m\u001b[0;34m\u001b[0m\u001b[0m\n",
      "\u001b[0;31mIOError\u001b[0m: [Errno 2] No such file or directory: 'booking_only.csv'"
     ]
    }
   ],
   "source": [
    "with open(\"booking_only.csv\", \"r\") as rf:\n",
    "  with open(\"booking_no_empty.csv\", \"w\") as wf:\n",
    "    headers = rf.readline()\n",
    "    headers = headers.split(',')\n",
    "    del headers[6]\n",
    "    headers = ','.join(headers)\n",
    "    wf.write(headers)\n",
    "    for line in rf:\n",
    "        line = line.split(',')\n",
    "        del line[6]\n",
    "        line = ','.join(line)\n",
    "        wf.write(line)\n",
    "        \n",
    "print \"DONE\""
   ]
  },
  {
   "cell_type": "code",
   "execution_count": null,
   "metadata": {
    "collapsed": false
   },
   "outputs": [],
   "source": [
    "with open(\"/Users/dianeliu/Downloads/test.csv\", \"r\") as rf:\n",
    "  count = 1\n",
    "  headers = rf.readline()\n",
    "  headers = headers.split(',')\n",
    "  headercount = [0]*len(headers)\n",
    "  for line in rf:\n",
    "    count = count + 1\n",
    "    splitline = line.split(',')\n",
    "    for idx, item in enumerate(splitline):\n",
    "      if item == \"\" or item == \"?\":\n",
    "        headercount[idx] = headercount[idx] + 1\n",
    "\n",
    "  for i in range(len(headers)):\n",
    "    print headers[i], headercount[i]\n",
    "    \n",
    "print count"
   ]
  },
  {
   "cell_type": "code",
   "execution_count": null,
   "metadata": {
    "collapsed": false
   },
   "outputs": [],
   "source": [
    "with open(\"/Users/dianeliu/Downloads/train.csv\", \"r\") as rf:\n",
    "  count = 1\n",
    "  headers = rf.readline()\n",
    "  headers = headers.split(',')\n",
    "  headercount = [0]*len(headers)\n",
    "  for line in rf:\n",
    "    splitline = line.split(',')\n",
    "    for idx, item in enumerate(splitline):\n",
    "      if item == \"\" or item == \"?\":\n",
    "        headercount[idx] = headercount[idx] + 1\n",
    "\n",
    "  for i in range(len(headers)):\n",
    "    print headers[i], headercount[i]\n",
    "    \n",
    "print count"
   ]
  },
  {
   "cell_type": "code",
   "execution_count": null,
   "metadata": {
    "collapsed": true
   },
   "outputs": [],
   "source": []
  }
 ],
 "metadata": {
  "kernelspec": {
   "display_name": "Python 2",
   "language": "python",
   "name": "python2"
  },
  "language_info": {
   "codemirror_mode": {
    "name": "ipython",
    "version": 2
   },
   "file_extension": ".py",
   "mimetype": "text/x-python",
   "name": "python",
   "nbconvert_exporter": "python",
   "pygments_lexer": "ipython2",
   "version": "2.7.11"
  }
 },
 "nbformat": 4,
 "nbformat_minor": 0
}
