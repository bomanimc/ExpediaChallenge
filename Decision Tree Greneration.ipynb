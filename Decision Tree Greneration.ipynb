{
 "cells": [
  {
   "cell_type": "markdown",
   "metadata": {},
   "source": [
    "In this section, we load the first 100K rows of data from the training set into a Pandas dataframe."
   ]
  },
  {
   "cell_type": "code",
   "execution_count": 2,
   "metadata": {
    "collapsed": true
   },
   "outputs": [],
   "source": [
    "from __future__ import print_function\n",
    "\n",
    "import os\n",
    "import subprocess\n",
    "from sklearn.tree import DecisionTreeClassifier, export_graphviz\n",
    "\n",
    "import numpy as np # linear algebra\n",
    "import pandas as pd # data processing, CSV file I/O (e.g. pd.read_csv)\n",
    "\n",
    "# Load in the testing and training datasets\n",
    "trainFull = pd.read_csv(\"data/train.csv\", nrows=100000)"
   ]
  },
  {
   "cell_type": "markdown",
   "metadata": {},
   "source": [
    "Next, we can take chunks of the data to use as a training sample for our decision tree, as well as a sample to use for training. From these chunks of 80K and 20K rows, we can take samples of 10K rows to utilize for model generation and testing. It's important to make sure that there is no overlap between between the training and  subsets to gaurantee valid results in the scoring process."
   ]
  },
  {
   "cell_type": "code",
   "execution_count": 4,
   "metadata": {
    "collapsed": false
   },
   "outputs": [],
   "source": [
    "# Take subsets of the datasets for training and testing\n",
    "train = trainFull[:80000].sample(10000)\n",
    "test_set = trainFull[:20000].sample(10000)"
   ]
  },
  {
   "cell_type": "markdown",
   "metadata": {},
   "source": [
    "For this model, we will not consider the features that are listed in the removeList. First we take all of the column names, and then remove the unnecessary features."
   ]
  },
  {
   "cell_type": "code",
   "execution_count": 5,
   "metadata": {
    "collapsed": false
   },
   "outputs": [
    {
     "name": "stdout",
     "output_type": "stream",
     "text": [
      "The features considered are:\n",
      "['site_name', 'posa_continent', 'user_location_country', 'user_location_region', 'user_location_city', 'is_mobile', 'is_package', 'channel', 'srch_adults_cnt', 'srch_children_cnt', 'srch_rm_cnt', 'srch_destination_id', 'srch_destination_type_id', 'is_booking', 'cnt', 'hotel_continent', 'hotel_country', 'hotel_market']\n"
     ]
    }
   ],
   "source": [
    "# Set a list of features to be considered in the tree\n",
    "features = trainFull.columns.values.tolist()\n",
    "removelist  =  [\"hotel_cluster\", \"user_id\", \"date_time\",\"orig_destination_distance\", \"srch_ci\", \"srch_co\"]\n",
    "features = [column for column in features if column not in removelist]\n",
    "print(\"The features considered are:\")\n",
    "print(features)"
   ]
  },
  {
   "cell_type": "code",
   "execution_count": 6,
   "metadata": {
    "collapsed": false
   },
   "outputs": [
    {
     "data": {
      "text/plain": [
       "DecisionTreeClassifier(class_weight=None, criterion='gini', max_depth=None,\n",
       "            max_features=None, max_leaf_nodes=None, min_samples_leaf=1,\n",
       "            min_samples_split=20, min_weight_fraction_leaf=0.0,\n",
       "            presort=False, random_state=None, splitter='best')"
      ]
     },
     "execution_count": 6,
     "metadata": {},
     "output_type": "execute_result"
    }
   ],
   "source": [
    "# Create and fit a decision tree to the set of data in those features\n",
    "y = trainFull[\"hotel_cluster\"] \n",
    "X = trainFull[features]\n",
    "dt = DecisionTreeClassifier(min_samples_split=20)\n",
    "dt.fit(X, y)"
   ]
  },
  {
   "cell_type": "code",
   "execution_count": null,
   "metadata": {
    "collapsed": true
   },
   "outputs": [],
   "source": [
    "# Make a visualization of the decision tree\n",
    "visualize_tree(dt, features)"
   ]
  }
 ],
 "metadata": {
  "kernelspec": {
   "display_name": "Python 2",
   "language": "python",
   "name": "python2"
  },
  "language_info": {
   "codemirror_mode": {
    "name": "ipython",
    "version": 2
   },
   "file_extension": ".py",
   "mimetype": "text/x-python",
   "name": "python",
   "nbconvert_exporter": "python",
   "pygments_lexer": "ipython2",
   "version": "2.7.11"
  }
 },
 "nbformat": 4,
 "nbformat_minor": 0
}
